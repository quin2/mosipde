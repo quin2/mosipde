{
 "cells": [
  {
   "cell_type": "code",
   "execution_count": 29,
   "metadata": {},
   "outputs": [],
   "source": [
    "import matplotlib.pyplot as plt\n",
    "import pandas as pd\n",
    "import numpy as np\n",
    "\n",
    "from sklearn.linear_model import LinearRegression\n",
    "from sklearn.preprocessing import PolynomialFeatures\n",
    "from sklearn.model_selection import train_test_split\n",
    "from sklearn.base import BaseEstimator\n",
    "from sklearn.model_selection import GridSearchCV\n",
    "from sklearn.metrics import mean_squared_error, r2_score"
   ]
  },
  {
   "cell_type": "code",
   "execution_count": 27,
   "metadata": {},
   "outputs": [],
   "source": [
    "def generateChem(df):\n",
    "    aa = df[['Row', 'Component', 'd 13C/12C']]\n",
    "    aa = aa.drop(aa[aa['Component'] == 'Blank'].index)\n",
    "    \n",
    "    aa = aa.drop(aa[pd.isna(aa['Component'])].index)\n",
    "\n",
    "    out = aa.pivot(index='Row', columns='Component', values='d 13C/12C').bfill().iloc[[0],:]\n",
    "    out.insert(0, 'Identifier 1', df['Identifier 1'].unique())\n",
    "    out.insert(1, 'Identifier 2', df['Identifier 2'].unique())\n",
    "\n",
    "    out.columns.name = None\n",
    "\n",
    "    return out\n",
    "\n",
    "file_Name = \"24Sept19.xls\"\n",
    "file_Path = \"/Users/quinnvinlove/Documents/sugarsBio/excel/\"\n",
    "\n",
    "df = pd.read_excel(file_Path + file_Name)\n",
    "\n",
    "_all = pd.concat([generateChem(df2) for _, df2 in df.groupby(['Identifier 1', 'Identifier 2'])])\n",
    "_all = _all.sort_index()"
   ]
  },
  {
   "cell_type": "code",
   "execution_count": 72,
   "metadata": {},
   "outputs": [
    {
     "data": {
      "text/plain": [
       "Row\n",
       "3    -25.664\n",
       "4    -25.823\n",
       "5    -25.939\n",
       "7    -25.337\n",
       "8    -25.353\n",
       "9    -25.456\n",
       "11   -25.288\n",
       "12   -25.127\n",
       "13   -25.183\n",
       "15   -25.133\n",
       "16   -25.088\n",
       "17   -25.184\n",
       "19   -25.402\n",
       "20   -25.146\n",
       "21   -25.101\n",
       "23   -25.528\n",
       "24   -25.701\n",
       "25   -25.626\n",
       "27   -25.617\n",
       "28   -25.531\n",
       "29   -25.719\n",
       "31   -25.577\n",
       "32   -25.532\n",
       "33   -25.499\n",
       "35   -26.226\n",
       "36   -26.219\n",
       "37   -26.116\n",
       "39   -24.936\n",
       "40   -24.988\n",
       "41   -24.975\n",
       "47   -25.440\n",
       "48   -25.415\n",
       "49   -25.562\n",
       "51   -26.137\n",
       "52   -26.141\n",
       "53   -26.218\n",
       "Name: Asp, dtype: float64"
      ]
     },
     "execution_count": 72,
     "metadata": {},
     "output_type": "execute_result"
    }
   ],
   "source": [
    "#eliminate data points > or < 2sd from mean!\n",
    "\n",
    "ala_all = _all[_all['Identifier 1'] != 'AA std']['Asp']\n",
    "std = np.std(ala_all)\n",
    "mean = np.mean(ala_all)\n",
    "\n",
    "over = ala_all[(ala_all < (mean - (2*std))) | (ala_all > (mean + (2*std)))].index\n",
    "ala_all.drop(over)"
   ]
  },
  {
   "cell_type": "code",
   "execution_count": 65,
   "metadata": {},
   "outputs": [
    {
     "data": {
      "text/plain": [
       "0.3602399149293205"
      ]
     },
     "metadata": {},
     "output_type": "display_data"
    },
    {
     "data": {
      "image/png": "[encoded data removed]",
      "text/plain": [
       "<Figure size 432x288 with 1 Axes>"
      ]
     },
     "metadata": {
      "needs_background": "light"
     },
     "output_type": "display_data"
    },
    {
     "data": {
      "text/plain": [
       "0.3602399149293205"
      ]
     },
     "metadata": {},
     "output_type": "display_data"
    }
   ],
   "source": [
    "#fit linear model\n",
    "plt.scatter(x=ala_all.index, y=ala_all.values)\n",
    "\n",
    "#reshape values\n",
    "X = np.array(ala_all.index).reshape(-1, 1)\n",
    "y = np.array(ala_all.values).reshape(-1, 1)\n",
    "\n",
    "#create train/test split\n",
    "X_train, X_test, y_train, y_test = train_test_split(X, y, test_size=0.2, random_state=42)\n",
    "\n",
    "#create polynomial scaling\n",
    "pf = PolynomialFeatures(degree=2)\n",
    "pf.fit(X)\n",
    "X_poly_train = pf.transform(X_train)\n",
    "X_poly_test = pf.transform(X_test)\n",
    "\n",
    "#fit to train\n",
    "clf = LinearRegression().fit(X_poly_train, y_train)\n",
    "\n",
    "#plot line\n",
    "model_range_transform = pf.transform(X)\n",
    "plt.plot(X, clf.predict(model_range_transform), color='black')\n",
    "\n",
    "#calc r squared with test portion of data\n",
    "r2 = r2_score(y_test, clf.predict(X_poly_test))\n",
    "display(r2)\n",
    "\n",
    "#show plot\n",
    "plt.show()\n",
    "\n",
    "def reg(data, degree):\n",
    "    #reshape values\n",
    "    X = np.array(data.index).reshape(-1, 1)\n",
    "    y = np.array(data.values).reshape(-1, 1)\n",
    "\n",
    "    #create train/test split\n",
    "    X_train, X_test, y_train, y_test = train_test_split(X, y, test_size=0.2, random_state=42)\n",
    "\n",
    "    #create polynomial scaling\n",
    "    pf = PolynomialFeatures(degree=2)\n",
    "    pf.fit(X)\n",
    "    X_poly_train = pf.transform(X_train)\n",
    "    X_poly_test = pf.transform(X_test)\n",
    "\n",
    "    #fit to train\n",
    "    clf = LinearRegression().fit(X_poly_train, y_train)\n",
    "\n",
    "    #calc r squared with test portion of data\n",
    "    r2 = r2_score(y_test, clf.predict(X_poly_test))\n",
    "\n",
    "    return r2\n",
    "\n",
    "display(reg(ala_all, 2))"
   ]
  },
  {
   "cell_type": "code",
   "execution_count": 73,
   "metadata": {},
   "outputs": [
    {
     "data": {
      "text/plain": [
       "7"
      ]
     },
     "metadata": {},
     "output_type": "display_data"
    }
   ],
   "source": [
    "def reg(data, degree):\n",
    "    #reshape values\n",
    "    X = np.array(data.index).reshape(-1, 1)\n",
    "    y = np.array(data.values).reshape(-1, 1)\n",
    "\n",
    "    #create train/test split\n",
    "    X_train, X_test, y_train, y_test = train_test_split(X, y, test_size=0.2, random_state=42)\n",
    "\n",
    "    #create polynomial scaling\n",
    "    pf = PolynomialFeatures(degree=degree)\n",
    "    pf.fit(X)\n",
    "    X_poly_train = pf.transform(X_train)\n",
    "    X_poly_test = pf.transform(X_test)\n",
    "\n",
    "    #fit to train\n",
    "    clf = LinearRegression().fit(X_poly_train, y_train)\n",
    "\n",
    "    #calc r squared with test portion of data\n",
    "    r2 = r2_score(y_test, clf.predict(X_poly_test))\n",
    "\n",
    "    return r2\n",
    "\n",
    "rs = [reg(ala_all, i) for i in range(0, 20)]\n",
    "\n",
    "display(rs.index(max(rs)))\n"
   ]
  },
  {
   "cell_type": "code",
   "execution_count": 87,
   "metadata": {
    "scrolled": false
   },
   "outputs": [
    {
     "data": {
      "text/plain": [
       "'Ala'"
      ]
     },
     "metadata": {},
     "output_type": "display_data"
    },
    {
     "data": {
      "text/plain": [
       "0.7703760044528334"
      ]
     },
     "metadata": {},
     "output_type": "display_data"
    },
    {
     "data": {
      "text/plain": [
       "4"
      ]
     },
     "metadata": {},
     "output_type": "display_data"
    },
    {
     "data": {
      "text/plain": [
       "'Asp'"
      ]
     },
     "metadata": {},
     "output_type": "display_data"
    },
    {
     "data": {
      "text/plain": [
       "0.6423939846726245"
      ]
     },
     "metadata": {},
     "output_type": "display_data"
    },
    {
     "data": {
      "text/plain": [
       "1"
      ]
     },
     "metadata": {},
     "output_type": "display_data"
    },
    {
     "data": {
      "text/plain": [
       "'Asp1'"
      ]
     },
     "metadata": {},
     "output_type": "display_data"
    },
    {
     "data": {
      "text/plain": [
       "0.29591363798067905"
      ]
     },
     "metadata": {},
     "output_type": "display_data"
    },
    {
     "data": {
      "text/plain": [
       "4"
      ]
     },
     "metadata": {},
     "output_type": "display_data"
    },
    {
     "data": {
      "text/plain": [
       "'CO2-1'"
      ]
     },
     "metadata": {},
     "output_type": "display_data"
    },
    {
     "data": {
      "text/plain": [
       "0.36996912582513186"
      ]
     },
     "metadata": {},
     "output_type": "display_data"
    },
    {
     "data": {
      "text/plain": [
       "2"
      ]
     },
     "metadata": {},
     "output_type": "display_data"
    },
    {
     "data": {
      "text/plain": [
       "'CO2-2'"
      ]
     },
     "metadata": {},
     "output_type": "display_data"
    },
    {
     "data": {
      "text/plain": [
       "0.0"
      ]
     },
     "metadata": {},
     "output_type": "display_data"
    },
    {
     "data": {
      "text/plain": [
       "0"
      ]
     },
     "metadata": {},
     "output_type": "display_data"
    },
    {
     "data": {
      "text/plain": [
       "'CO2-3'"
      ]
     },
     "metadata": {},
     "output_type": "display_data"
    },
    {
     "data": {
      "text/plain": [
       "0.0"
      ]
     },
     "metadata": {},
     "output_type": "display_data"
    },
    {
     "data": {
      "text/plain": [
       "0"
      ]
     },
     "metadata": {},
     "output_type": "display_data"
    },
    {
     "data": {
      "text/plain": [
       "'CO2-4'"
      ]
     },
     "metadata": {},
     "output_type": "display_data"
    },
    {
     "data": {
      "text/plain": [
       "0.5598225089164237"
      ]
     },
     "metadata": {},
     "output_type": "display_data"
    },
    {
     "data": {
      "text/plain": [
       "2"
      ]
     },
     "metadata": {},
     "output_type": "display_data"
    },
    {
     "data": {
      "text/plain": [
       "'CO2-5'"
      ]
     },
     "metadata": {},
     "output_type": "display_data"
    },
    {
     "data": {
      "text/plain": [
       "0.028658767750813552"
      ]
     },
     "metadata": {},
     "output_type": "display_data"
    },
    {
     "data": {
      "text/plain": [
       "4"
      ]
     },
     "metadata": {},
     "output_type": "display_data"
    },
    {
     "data": {
      "text/plain": [
       "'CO2-6'"
      ]
     },
     "metadata": {},
     "output_type": "display_data"
    },
    {
     "data": {
      "text/plain": [
       "0.8954653330429954"
      ]
     },
     "metadata": {},
     "output_type": "display_data"
    },
    {
     "data": {
      "text/plain": [
       "2"
      ]
     },
     "metadata": {},
     "output_type": "display_data"
    },
    {
     "data": {
      "text/plain": [
       "'CO2-7'"
      ]
     },
     "metadata": {},
     "output_type": "display_data"
    },
    {
     "data": {
      "text/plain": [
       "0.9662377652037976"
      ]
     },
     "metadata": {},
     "output_type": "display_data"
    },
    {
     "data": {
      "text/plain": [
       "6"
      ]
     },
     "metadata": {},
     "output_type": "display_data"
    },
    {
     "data": {
      "text/plain": [
       "'CO2-8'"
      ]
     },
     "metadata": {},
     "output_type": "display_data"
    },
    {
     "data": {
      "text/plain": [
       "0.0"
      ]
     },
     "metadata": {},
     "output_type": "display_data"
    },
    {
     "data": {
      "text/plain": [
       "0"
      ]
     },
     "metadata": {},
     "output_type": "display_data"
    },
    {
     "data": {
      "text/plain": [
       "'CO2-9'"
      ]
     },
     "metadata": {},
     "output_type": "display_data"
    },
    {
     "data": {
      "text/plain": [
       "-0.06406666666651017"
      ]
     },
     "metadata": {},
     "output_type": "display_data"
    },
    {
     "data": {
      "text/plain": [
       "0"
      ]
     },
     "metadata": {},
     "output_type": "display_data"
    },
    {
     "data": {
      "text/plain": [
       "'Caffeine'"
      ]
     },
     "metadata": {},
     "output_type": "display_data"
    },
    {
     "data": {
      "text/plain": [
       "0.605332726482064"
      ]
     },
     "metadata": {},
     "output_type": "display_data"
    },
    {
     "data": {
      "text/plain": [
       "7"
      ]
     },
     "metadata": {},
     "output_type": "display_data"
    },
    {
     "data": {
      "text/plain": [
       "'Glu'"
      ]
     },
     "metadata": {},
     "output_type": "display_data"
    },
    {
     "data": {
      "text/plain": [
       "0.284404317901496"
      ]
     },
     "metadata": {},
     "output_type": "display_data"
    },
    {
     "data": {
      "text/plain": [
       "3"
      ]
     },
     "metadata": {},
     "output_type": "display_data"
    },
    {
     "data": {
      "text/plain": [
       "'Gly'"
      ]
     },
     "metadata": {},
     "output_type": "display_data"
    },
    {
     "data": {
      "text/plain": [
       "-0.06756198473750219"
      ]
     },
     "metadata": {},
     "output_type": "display_data"
    },
    {
     "data": {
      "text/plain": [
       "0"
      ]
     },
     "metadata": {},
     "output_type": "display_data"
    },
    {
     "data": {
      "text/plain": [
       "'His'"
      ]
     },
     "metadata": {},
     "output_type": "display_data"
    },
    {
     "data": {
      "text/plain": [
       "0.6091391266954361"
      ]
     },
     "metadata": {},
     "output_type": "display_data"
    },
    {
     "data": {
      "text/plain": [
       "4"
      ]
     },
     "metadata": {},
     "output_type": "display_data"
    },
    {
     "data": {
      "text/plain": [
       "'His1'"
      ]
     },
     "metadata": {},
     "output_type": "display_data"
    },
    {
     "data": {
      "text/plain": [
       "0.7935186822684528"
      ]
     },
     "metadata": {},
     "output_type": "display_data"
    },
    {
     "data": {
      "text/plain": [
       "2"
      ]
     },
     "metadata": {},
     "output_type": "display_data"
    },
    {
     "data": {
      "text/plain": [
       "'Ile'"
      ]
     },
     "metadata": {},
     "output_type": "display_data"
    },
    {
     "data": {
      "text/plain": [
       "0.9113272678959975"
      ]
     },
     "metadata": {},
     "output_type": "display_data"
    },
    {
     "data": {
      "text/plain": [
       "14"
      ]
     },
     "metadata": {},
     "output_type": "display_data"
    },
    {
     "data": {
      "text/plain": [
       "'Leu'"
      ]
     },
     "metadata": {},
     "output_type": "display_data"
    },
    {
     "data": {
      "text/plain": [
       "-0.12891513440931557"
      ]
     },
     "metadata": {},
     "output_type": "display_data"
    },
    {
     "data": {
      "text/plain": [
       "0"
      ]
     },
     "metadata": {},
     "output_type": "display_data"
    },
    {
     "data": {
      "text/plain": [
       "'Lys'"
      ]
     },
     "metadata": {},
     "output_type": "display_data"
    },
    {
     "data": {
      "text/plain": [
       "-1.393781804108948"
      ]
     },
     "metadata": {},
     "output_type": "display_data"
    },
    {
     "data": {
      "text/plain": [
       "0"
      ]
     },
     "metadata": {},
     "output_type": "display_data"
    },
    {
     "data": {
      "text/plain": [
       "'Met'"
      ]
     },
     "metadata": {},
     "output_type": "display_data"
    },
    {
     "data": {
      "text/plain": [
       "0.3073550942962412"
      ]
     },
     "metadata": {},
     "output_type": "display_data"
    },
    {
     "data": {
      "text/plain": [
       "9"
      ]
     },
     "metadata": {},
     "output_type": "display_data"
    },
    {
     "data": {
      "text/plain": [
       "'Met1'"
      ]
     },
     "metadata": {},
     "output_type": "display_data"
    },
    {
     "data": {
      "text/plain": [
       "-3.6736111111111924"
      ]
     },
     "metadata": {},
     "output_type": "display_data"
    },
    {
     "data": {
      "text/plain": [
       "0"
      ]
     },
     "metadata": {},
     "output_type": "display_data"
    },
    {
     "data": {
      "text/plain": [
       "'Nonadecane'"
      ]
     },
     "metadata": {},
     "output_type": "display_data"
    },
    {
     "data": {
      "text/plain": [
       "-2.2075530348125088"
      ]
     },
     "metadata": {},
     "output_type": "display_data"
    },
    {
     "data": {
      "text/plain": [
       "1"
      ]
     },
     "metadata": {},
     "output_type": "display_data"
    },
    {
     "data": {
      "text/plain": [
       "'Phe'"
      ]
     },
     "metadata": {},
     "output_type": "display_data"
    },
    {
     "data": {
      "text/plain": [
       "0.5287566766964609"
      ]
     },
     "metadata": {},
     "output_type": "display_data"
    },
    {
     "data": {
      "text/plain": [
       "2"
      ]
     },
     "metadata": {},
     "output_type": "display_data"
    },
    {
     "data": {
      "text/plain": [
       "'Pro'"
      ]
     },
     "metadata": {},
     "output_type": "display_data"
    },
    {
     "data": {
      "text/plain": [
       "0.15873474994487902"
      ]
     },
     "metadata": {},
     "output_type": "display_data"
    },
    {
     "data": {
      "text/plain": [
       "2"
      ]
     },
     "metadata": {},
     "output_type": "display_data"
    },
    {
     "data": {
      "text/plain": [
       "'Ser'"
      ]
     },
     "metadata": {},
     "output_type": "display_data"
    },
    {
     "data": {
      "text/plain": [
       "0.4447248185771997"
      ]
     },
     "metadata": {},
     "output_type": "display_data"
    },
    {
     "data": {
      "text/plain": [
       "1"
      ]
     },
     "metadata": {},
     "output_type": "display_data"
    },
    {
     "data": {
      "text/plain": [
       "'Ser1'"
      ]
     },
     "metadata": {},
     "output_type": "display_data"
    },
    {
     "data": {
      "text/plain": [
       "-0.0162437524029182"
      ]
     },
     "metadata": {},
     "output_type": "display_data"
    },
    {
     "data": {
      "text/plain": [
       "0"
      ]
     },
     "metadata": {},
     "output_type": "display_data"
    },
    {
     "data": {
      "text/plain": [
       "'Thr'"
      ]
     },
     "metadata": {},
     "output_type": "display_data"
    },
    {
     "data": {
      "text/plain": [
       "0.7900720766087665"
      ]
     },
     "metadata": {},
     "output_type": "display_data"
    },
    {
     "data": {
      "text/plain": [
       "4"
      ]
     },
     "metadata": {},
     "output_type": "display_data"
    },
    {
     "data": {
      "text/plain": [
       "'Tyr'"
      ]
     },
     "metadata": {},
     "output_type": "display_data"
    },
    {
     "data": {
      "text/plain": [
       "-0.12970768046324288"
      ]
     },
     "metadata": {},
     "output_type": "display_data"
    },
    {
     "data": {
      "text/plain": [
       "1"
      ]
     },
     "metadata": {},
     "output_type": "display_data"
    },
    {
     "data": {
      "text/plain": [
       "'Val'"
      ]
     },
     "metadata": {},
     "output_type": "display_data"
    },
    {
     "data": {
      "text/plain": [
       "0.7317764765923072"
      ]
     },
     "metadata": {},
     "output_type": "display_data"
    },
    {
     "data": {
      "text/plain": [
       "5"
      ]
     },
     "metadata": {},
     "output_type": "display_data"
    },
    {
     "data": {
      "text/plain": [
       "'nLeu'"
      ]
     },
     "metadata": {},
     "output_type": "display_data"
    },
    {
     "data": {
      "text/plain": [
       "0.29623643450818515"
      ]
     },
     "metadata": {},
     "output_type": "display_data"
    },
    {
     "data": {
      "text/plain": [
       "4"
      ]
     },
     "metadata": {},
     "output_type": "display_data"
    }
   ],
   "source": [
    "temp_aa = _all[_all['Identifier 1'] == 'AA std']\n",
    "temp_aa = temp_aa.drop(['Identifier 1', 'Identifier 2'], axis=1)\n",
    "\n",
    "def remove_out(data):\n",
    "    std = np.std(data)\n",
    "    mean = np.mean(data)\n",
    "\n",
    "    over = data[(data < (mean - (2*std))) | (data > (mean + (2*std)))].index\n",
    "    return data.drop(over)\n",
    "\n",
    "for compound in temp_aa:\n",
    "    data = temp_aa[compound].dropna()\n",
    "    data = remove_out(data)\n",
    "    if len(data) > 0:\n",
    "        rs = [reg(data, i) for i in range(0, 30)]\n",
    "        display(compound)\n",
    "        display(max(rs))\n",
    "        display(rs.index(max(rs)))"
   ]
  },
  {
   "cell_type": "code",
   "execution_count": 96,
   "metadata": {},
   "outputs": [
    {
     "data": {
      "image/png": "[encoded data removed]",
      "text/plain": [
       "<Figure size 432x288 with 1 Axes>"
      ]
     },
     "metadata": {
      "needs_background": "light"
     },
     "output_type": "display_data"
    }
   ],
   "source": [
    "class reg_plus:\n",
    "    def __init__(self, X, y):\n",
    "        self.X = np.array(X).reshape(-1, 1)\n",
    "        self.y = np.array(y).reshape(-1, 1)\n",
    "        \n",
    "    def find_best_model(self, max_degree=20):\n",
    "        best_r2 = np.NINF\n",
    "        for i in range(0, max_degree):\n",
    "            r2, clf = self.reg(i)\n",
    "            if r2 > best_r2:\n",
    "                self.model = clf\n",
    "                self.deg = i\n",
    "        \n",
    "    def predict(self, X):\n",
    "        X_deploy = np.array(X).reshape(-1, 1)\n",
    "        X_deploy = PolynomialFeatures(degree=self.deg).fit_transform(X_deploy)\n",
    "        return self.model.predict(X_deploy)\n",
    "        \n",
    "    def reg(self, degree):\n",
    "        pf = PolynomialFeatures(degree=degree)\n",
    "        pf.fit(self.X)\n",
    "        \n",
    "        #create train/test split\n",
    "        X_train, X_test, y_train, y_test = train_test_split(self.X, self.y, test_size=0.2, random_state=42)\n",
    "\n",
    "        #create polynomial scaling\n",
    "        X_poly_train = pf.transform(X_train)\n",
    "        X_poly_test = pf.transform(X_test)\n",
    "\n",
    "        #fit to train\n",
    "        clf = LinearRegression().fit(X_poly_train, y_train)\n",
    "\n",
    "        #calc r squared with test portion of data\n",
    "        r2 = r2_score(y_test, clf.predict(X_poly_test))\n",
    "\n",
    "        return r2, clf\n",
    "\n",
    "    \n",
    "hello = reg_plus(ala_all.index, ala_all.values)\n",
    "hello.find_best_model()\n",
    "\n",
    "plt.scatter(ala_all.index, ala_all.values)\n",
    "plt.plot(ala_all.index, hello.predict(ala_all.index), c='black')\n",
    "\n",
    "plt.show()"
   ]
  },
  {
   "cell_type": "markdown",
   "metadata": {},
   "source": [
    "higher is better for r2"
   ]
  }
 ],
 "metadata": {
  "kernelspec": {
   "display_name": "Python 3",
   "language": "python",
   "name": "python3"
  },
  "language_info": {
   "codemirror_mode": {
    "name": "ipython",
    "version": 3
   },
   "file_extension": ".py",
   "mimetype": "text/x-python",
   "name": "python",
   "nbconvert_exporter": "python",
   "pygments_lexer": "ipython3",
   "version": "3.6.4"
  }
 },
 "nbformat": 4,
 "nbformat_minor": 2
}
